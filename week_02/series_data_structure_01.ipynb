{
 "cells": [
  {
   "cell_type": "markdown",
   "id": "f27e5f2c",
   "metadata": {},
   "source": [
    "# Introducton to Pandas\n"
   ]
  },
  {
   "cell_type": "code",
   "execution_count": 1,
   "id": "e9af3d93",
   "metadata": {},
   "outputs": [],
   "source": [
    "# Import pandas\n",
    "import pandas as pd"
   ]
  },
  {
   "cell_type": "code",
   "execution_count": 2,
   "id": "035193e3",
   "metadata": {},
   "outputs": [
    {
     "data": {
      "text/plain": [
       "0    akshat\n",
       "1    madhav\n",
       "2    aadish\n",
       "dtype: object"
      ]
     },
     "execution_count": 2,
     "metadata": {},
     "output_type": "execute_result"
    }
   ],
   "source": [
    "# As you might expect, you can create a series by passing in a list of values. \n",
    "# When you do this, Pandas automatically assigns an index starting with zero and\n",
    "# sets the name of the series to None. Let's work on an example of this.\n",
    "\n",
    "students = ['akshat', 'madhav', 'aadish']\n",
    "\n",
    "# Use series function of pandas to make a series data structure\n",
    "pd.Series(students)"
   ]
  },
  {
   "cell_type": "code",
   "execution_count": 5,
   "id": "b5f3c8dd",
   "metadata": {},
   "outputs": [
    {
     "data": {
      "text/plain": [
       "0    1\n",
       "1    2\n",
       "2    3\n",
       "dtype: int64"
      ]
     },
     "execution_count": 5,
     "metadata": {},
     "output_type": "execute_result"
    }
   ],
   "source": [
    "numbers= [1, 2, 3]\n",
    "pd.Series(numbers)"
   ]
  },
  {
   "cell_type": "code",
   "execution_count": 6,
   "id": "2a203661",
   "metadata": {},
   "outputs": [
    {
     "data": {
      "text/plain": [
       "0    akshat\n",
       "1    madhav\n",
       "2      None\n",
       "dtype: object"
      ]
     },
     "execution_count": 6,
     "metadata": {},
     "output_type": "execute_result"
    }
   ],
   "source": [
    "# Underneath, pandas does some type conversion. If we create a list of strings and we have \n",
    "# one element, a None type, pandas inserts it as a None and uses the type object for the \n",
    "# underlying array. \n",
    "\n",
    "students = ['akshat', 'madhav', None]\n",
    "pd.Series(students)"
   ]
  },
  {
   "cell_type": "code",
   "execution_count": 7,
   "id": "149fecd8",
   "metadata": {},
   "outputs": [
    {
     "data": {
      "text/plain": [
       "0    1.0\n",
       "1    2.0\n",
       "2    NaN\n",
       "dtype: float64"
      ]
     },
     "execution_count": 7,
     "metadata": {},
     "output_type": "execute_result"
    }
   ],
   "source": [
    "# However, if we create a list of numbers, integers or floats, and put in the None type,\n",
    "# pandas automatically converts this to a special floating point value designated as NaN, \n",
    "# which stands for \"Not a Number\".\n",
    "\n",
    "numbers= [1, 2, None]\n",
    "pd.Series(numbers)\n",
    "\n",
    "# Underneath, pandas represents NaN as a floating point number,\n",
    "# and because integers can be typecast to floats,\n",
    "# pandas went and converted our integers to floats."
   ]
  },
  {
   "cell_type": "code",
   "execution_count": 9,
   "id": "4841b83e",
   "metadata": {},
   "outputs": [
    {
     "data": {
      "text/plain": [
       "False"
      ]
     },
     "execution_count": 9,
     "metadata": {},
     "output_type": "execute_result"
    }
   ],
   "source": [
    "# NaN is *NOT* equivilent to None and when we try the equality test, the result is False.\n",
    "\n",
    "# Lets bring in numpy which allows us to generate an NaN value\n",
    "import numpy as np\n",
    "# And lets compare it to None\n",
    "np.nan == None"
   ]
  },
  {
   "cell_type": "code",
   "execution_count": 10,
   "id": "e3a664a2",
   "metadata": {},
   "outputs": [
    {
     "data": {
      "text/plain": [
       "False"
      ]
     },
     "execution_count": 10,
     "metadata": {},
     "output_type": "execute_result"
    }
   ],
   "source": [
    "# It turns out that you actually can't do an equality test of NAN to itself. When you do, \n",
    "# the answer is always False. \n",
    "\n",
    "np.nan == np.nan"
   ]
  },
  {
   "cell_type": "code",
   "execution_count": 11,
   "id": "831e4120",
   "metadata": {},
   "outputs": [
    {
     "data": {
      "text/plain": [
       "True"
      ]
     },
     "execution_count": 11,
     "metadata": {},
     "output_type": "execute_result"
    }
   ],
   "source": [
    "# Instead, you need to use special functions to test for the presence of not a number, \n",
    "# such as the Numpy library isnan().\n",
    "\n",
    "np.isnan(np.nan)"
   ]
  },
  {
   "cell_type": "code",
   "execution_count": 8,
   "id": "be88cf64",
   "metadata": {},
   "outputs": [],
   "source": [
    "# So keep in mind when you see NaN, it's meaning is similar to None, but it's a \n",
    "# numeric value and treated differently for efficiency reasons."
   ]
  },
  {
   "cell_type": "code",
   "execution_count": 14,
   "id": "3729e4f8",
   "metadata": {},
   "outputs": [
    {
     "data": {
      "text/plain": [
       "Alice      Physics\n",
       "Molly      English\n",
       "Jack     Chemistry\n",
       "dtype: object"
      ]
     },
     "execution_count": 14,
     "metadata": {},
     "output_type": "execute_result"
    }
   ],
   "source": [
    "students_scores = {'Alice': 'Physics',\n",
    "                  'Molly': 'English',\n",
    "                  'Jack': 'Chemistry'}\n",
    "s = pd.Series(students_scores)\n",
    "s"
   ]
  },
  {
   "cell_type": "code",
   "execution_count": 15,
   "id": "7cf6d884",
   "metadata": {},
   "outputs": [
    {
     "data": {
      "text/plain": [
       "Index(['Alice', 'Molly', 'Jack'], dtype='object')"
      ]
     },
     "execution_count": 15,
     "metadata": {},
     "output_type": "execute_result"
    }
   ],
   "source": [
    "# We can get the index object using the index attribute\n",
    "s.index"
   ]
  },
  {
   "cell_type": "code",
   "execution_count": 17,
   "id": "5a8199f1",
   "metadata": {},
   "outputs": [
    {
     "data": {
      "text/plain": [
       "0    (Alice, White)\n",
       "1    (Molly, Brown)\n",
       "2     (Jack, Green)\n",
       "dtype: object"
      ]
     },
     "execution_count": 17,
     "metadata": {},
     "output_type": "execute_result"
    }
   ],
   "source": [
    "# A list of tuples\n",
    "students = [('Alice', 'White'), ('Molly', 'Brown'), ('Jack', 'Green')]\n",
    "pd.Series(students)"
   ]
  },
  {
   "cell_type": "code",
   "execution_count": 18,
   "id": "ce9eadd2",
   "metadata": {},
   "outputs": [
    {
     "data": {
      "text/plain": [
       "Alice      Physics\n",
       "Molly    Chemistry\n",
       "Sam        English\n",
       "dtype: object"
      ]
     },
     "execution_count": 18,
     "metadata": {},
     "output_type": "execute_result"
    }
   ],
   "source": [
    "# You can also separate your index creation from the data by passing in the index as a \n",
    "# list explicitly to the series.\n",
    "\n",
    "s = pd.Series(['Physics', 'Chemistry', 'English'], index=['Alice', 'Molly', 'Sam'])\n",
    "s"
   ]
  },
  {
   "cell_type": "code",
   "execution_count": 20,
   "id": "60cbb608",
   "metadata": {},
   "outputs": [
    {
     "data": {
      "text/plain": [
       "Alice    Physics\n",
       "Wanda    English\n",
       "Sam          NaN\n",
       "dtype: object"
      ]
     },
     "execution_count": 20,
     "metadata": {},
     "output_type": "execute_result"
    }
   ],
   "source": [
    "# So what happens if your list of values in the index object are not aligned with the keys \n",
    "# in your dictionary for creating the series? Well, pandas overrides the automatic creation \n",
    "# to favor only and all of the indices values that you provided. So it will ignore from your \n",
    "# dictionary all keys which are not in your index, and pandas will add None or NaN type values \n",
    "# for any index value you provide, which is not in your dictionary key list.\n",
    "\n",
    "students_scored = {'Alice': 'Physics',\n",
    "                  'Jack': 'Chemistry',\n",
    "                  'Wanda': 'English'}\n",
    "s = pd.Series(students_scored, index=['Alice', 'Wanda', 'Sam'])\n",
    "s"
   ]
  }
 ],
 "metadata": {
  "kernelspec": {
   "display_name": "Python 3",
   "language": "python",
   "name": "python3"
  },
  "language_info": {
   "codemirror_mode": {
    "name": "ipython",
    "version": 3
   },
   "file_extension": ".py",
   "mimetype": "text/x-python",
   "name": "python",
   "nbconvert_exporter": "python",
   "pygments_lexer": "ipython3",
   "version": "3.9.0"
  }
 },
 "nbformat": 4,
 "nbformat_minor": 5
}
